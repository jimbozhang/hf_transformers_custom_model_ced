{
  "cells": [
    {
      "cell_type": "code",
      "execution_count": 1,
      "metadata": {
        "id": "VkekNObLZGnP"
      },
      "outputs": [],
      "source": [
        "%%capture --no-display\n",
        "! wget https://github.com/karoldvl/ESC-50/archive/master.zip\n",
        "! unzip -qn master.zip"
      ]
    },
    {
      "cell_type": "code",
      "execution_count": 2,
      "metadata": {
        "id": "Ox_gKwWUaAOS"
      },
      "outputs": [],
      "source": [
        "%%capture --no-display\n",
        "%pip install librosa pandas evaluate\n",
        "%pip install pyarrow==12.0.1 datasets==2.17.0\n",
        "%pip install transformers==4.35.2 accelerate==0.27.0"
      ]
    },
    {
      "cell_type": "code",
      "execution_count": 3,
      "metadata": {
        "id": "2XrFwlVDZw_l"
      },
      "outputs": [],
      "source": [
        "import pandas as pd\n",
        "\n",
        "df = pd.read_csv(\"ESC-50-master/meta/esc50.csv\")\n",
        "df_train, df_dev = df[df.fold<5], df[df.fold==5]"
      ]
    },
    {
      "cell_type": "code",
      "execution_count": 4,
      "metadata": {
        "id": "SCLqyunGcRw-"
      },
      "outputs": [],
      "source": [
        "from datasets import Dataset, DatasetDict\n",
        "\n",
        "ds = DatasetDict(\n",
        "    {\n",
        "        \"train\": Dataset.from_pandas(df_train, split=\"train\"),\n",
        "        \"validation\": Dataset.from_pandas(df_dev, split=\"validation\"),\n",
        "    }\n",
        ")"
      ]
    },
    {
      "cell_type": "code",
      "execution_count": 5,
      "metadata": {
        "id": "_fiO-xcock5u"
      },
      "outputs": [],
      "source": [
        "model_name = \"mispeech/ced-base\""
      ]
    },
    {
      "cell_type": "code",
      "execution_count": 6,
      "metadata": {
        "colab": {
          "base_uri": "https://localhost:8080/",
          "height": 153,
          "referenced_widgets": [
            "77dcab16f79c4254a92cfa4d2d48fe5f",
            "47431cd0ca5a4ea6a3597b37152e9ed3",
            "45ea8e026574492cbedf0c46a37a362c",
            "f08f06a879634a599c6e4f51662e7f10",
            "915241d7cae34221bad65ce542cc8db5",
            "b28ec04697ae461d93524b40451bba7d",
            "e3ce1b286a4f40e4a0f12b9455574c8e",
            "db6be69f0a9d482c800e65613eb084a6",
            "c3dd340dd57d4b1a90a29c409a55c557",
            "bd84f65ff4d849b48010a02f412a27d2",
            "e6cfb61e7f5f4205802f9549d3b8949e"
          ]
        },
        "id": "kN_SM8zKcepK",
        "outputId": "c8645122-9574-44be-98e8-a2534bb9da8a"
      },
      "outputs": [
        {
          "name": "stderr",
          "output_type": "stream",
          "text": [
            "/usr/local/lib/python3.10/dist-packages/huggingface_hub/utils/_token.py:88: UserWarning: \n",
            "The secret `HF_TOKEN` does not exist in your Colab secrets.\n",
            "To authenticate with the Hugging Face Hub, create a token in your settings tab (https://huggingface.co/settings/tokens), set it as secret in your Google Colab and restart your session.\n",
            "You will be able to reuse this secret in all of your notebooks.\n",
            "Please note that authentication is recommended but still optional to access public models or datasets.\n",
            "  warnings.warn(\n"
          ]
        },
        {
          "data": {
            "application/vnd.jupyter.widget-view+json": {
              "model_id": "77dcab16f79c4254a92cfa4d2d48fe5f",
              "version_major": 2,
              "version_minor": 0
            },
            "text/plain": [
              "preprocessor_config.json:   0%|          | 0.00/290 [00:00<?, ?B/s]"
            ]
          },
          "metadata": {},
          "output_type": "display_data"
        }
      ],
      "source": [
        "from transformers import AutoFeatureExtractor\n",
        "\n",
        "feature_extractor = AutoFeatureExtractor.from_pretrained(model_name)"
      ]
    },
    {
      "cell_type": "code",
      "execution_count": 7,
      "metadata": {
        "id": "nOy-MFxMcxqj"
      },
      "outputs": [],
      "source": [
        "import librosa\n",
        "\n",
        "def preprocess_function(examples):\n",
        "    max_duration = 1.0\n",
        "    audio_root = \"/content/ESC-50-master/audio/\"\n",
        "\n",
        "    audio, orig_sr = librosa.load(audio_root + examples[\"filename\"], sr=44100)\n",
        "    audio = librosa.resample(audio, orig_sr=orig_sr, target_sr=16000)\n",
        "\n",
        "    inputs = feature_extractor(\n",
        "        audio,\n",
        "        sampling_rate=feature_extractor.sampling_rate,\n",
        "        max_length=int(feature_extractor.sampling_rate * max_duration),\n",
        "        truncation=True,\n",
        "    )\n",
        "    inputs[\"input_values\"] = inputs[\"input_values\"].squeeze(0)\n",
        "    return {**inputs, \"labels\": examples[\"target\"]}"
      ]
    },
    {
      "cell_type": "code",
      "execution_count": 8,
      "metadata": {
        "colab": {
          "base_uri": "https://localhost:8080/",
          "height": 81,
          "referenced_widgets": [
            "a8695917eb6244b3b11726d2d82e61a0",
            "7097a546b30842a59a8aa1c1ccc8657c",
            "9e4ee18942c149c3a57ac99c93bd8694",
            "1717633a334240448bd822cf61b71b06",
            "976bde432e5242ae96814a5a3036a249",
            "31ccc89a13584c25b2492981dc510f82",
            "e5cb3b5ba9b04b34be7cb6c78fdefb8f",
            "a78c59cfec9d469691ce77b12c7a2d8a",
            "ff9b0839f2bb4176b9dbc4bc772d9b27",
            "d0b76c81cd53471383ff67f5ef08afe9",
            "1a4ecc28c3544f69a7897bec21ef5506",
            "96c6b9e09cab4d818d10026d9b5c647c",
            "df118445503242b986a0634ebf911877",
            "5f70e4598c0e437ba633b4844a8e9aa9",
            "472d29880e2542df8f23af5645b7881a",
            "3e643c41899547ea9999b981bce29532",
            "03403fec257541609b41c68fca9f882e",
            "b29b85d641c74863a7a151e6757a5d71",
            "39204b730b9f4feea8cfe370d7160ba7",
            "934ac2c37c1c4bc0ae8f5fd94cee1177",
            "67af7b8d4a964d48ad413206590b67ed",
            "185aa3a7841f44c99f6fffa2b60befed"
          ]
        },
        "id": "33jpAiCNb6LI",
        "outputId": "39781bc1-e202-4ea3-877e-3d064af0e3ae"
      },
      "outputs": [
        {
          "data": {
            "application/vnd.jupyter.widget-view+json": {
              "model_id": "a8695917eb6244b3b11726d2d82e61a0",
              "version_major": 2,
              "version_minor": 0
            },
            "text/plain": [
              "Map:   0%|          | 0/1600 [00:00<?, ? examples/s]"
            ]
          },
          "metadata": {},
          "output_type": "display_data"
        },
        {
          "data": {
            "application/vnd.jupyter.widget-view+json": {
              "model_id": "96c6b9e09cab4d818d10026d9b5c647c",
              "version_major": 2,
              "version_minor": 0
            },
            "text/plain": [
              "Map:   0%|          | 0/400 [00:00<?, ? examples/s]"
            ]
          },
          "metadata": {},
          "output_type": "display_data"
        }
      ],
      "source": [
        "encoded_dataset = ds.map(\n",
        "    preprocess_function,\n",
        "    remove_columns=['filename', 'fold', 'target', 'category', 'esc10', 'src_file', 'take', '__index_level_0__'],\n",
        "    batched=False,\n",
        "    with_indices=False,\n",
        "    with_rank=False,\n",
        ")"
      ]
    },
    {
      "cell_type": "code",
      "execution_count": 9,
      "metadata": {
        "colab": {
          "base_uri": "https://localhost:8080/",
          "height": 182,
          "referenced_widgets": [
            "563900c8f07941a58076925e8d1b7e45",
            "2783a4b4445440c1864bb0849345b80e",
            "f2580c1e25594606881e712d2581e69a",
            "66859897c6f147ccbd88567e49f40c2c",
            "b2949de0ad3d48e79907a95c22a7be2c",
            "304649e83ae84c78b8410fd74d1141bc",
            "e06f6d6d6e9f415195183062192ca4cb",
            "2ca5ba912db04436a4414b01251eaa00",
            "480c89c8b74f48b3a12738499abfc7d9",
            "374d2ce18a3e4d0ca35ce13a337d2d18",
            "f74eb827acd34dbeb5551622c01a5b38",
            "3257898ed2ee4a40b85e31a71032e8ab",
            "a096f933a8f34c5985773b64b3f2c9b0",
            "cfd1db8850e04c57b6ba415bf1067375",
            "9bf4d78697ec4c5a8f99c55b9ffd6389",
            "d066fb0c19a843529d8937885e65c2c1",
            "d74d9407dae643b0a6f1ab46b382d8ff",
            "5275b097fe9145cda0c4bee8dd2510db",
            "f0e069e58d3448f9b6fcf3e761201d40",
            "86f8c191f51246aab1b8ff24841c1d9f",
            "6a928b85a1b24fadbf6296a4f5aad8e3",
            "da7deed13a3d4e5baee482b61f7bd6a8",
            "2916f69436b24d45a4ff1c1e2c216476",
            "08c7d9b2e17140a1bf12da1b829979e5",
            "abc4d84ca86949809f037b8f52538ec6",
            "690f64ab86b64895bdcc32f3e1a04d9f",
            "91e7faf0d6594b30a5e53f700bd79939",
            "49097e9157764e3896411afa4d48b453",
            "78a4c1e212c9462794f023a2dd7057d6",
            "3501479a902f4c97bec7a59e9ff9ca1c",
            "aab9590223b749e484cccb51989e0ec3",
            "3b9e6df1645441c49b0a093e4c36bdec",
            "2f7fa60bef714b59a3997ae97196eead"
          ]
        },
        "id": "UrKeNKLLZa6v",
        "outputId": "affd525e-b001-4dfd-e64e-a66aac193a21"
      },
      "outputs": [
        {
          "data": {
            "application/vnd.jupyter.widget-view+json": {
              "model_id": "563900c8f07941a58076925e8d1b7e45",
              "version_major": 2,
              "version_minor": 0
            },
            "text/plain": [
              "config.json:   0%|          | 0.00/24.9k [00:00<?, ?B/s]"
            ]
          },
          "metadata": {},
          "output_type": "display_data"
        },
        {
          "data": {
            "application/vnd.jupyter.widget-view+json": {
              "model_id": "3257898ed2ee4a40b85e31a71032e8ab",
              "version_major": 2,
              "version_minor": 0
            },
            "text/plain": [
              "class_labels_indices.csv:   0%|          | 0.00/14.7k [00:00<?, ?B/s]"
            ]
          },
          "metadata": {},
          "output_type": "display_data"
        },
        {
          "data": {
            "application/vnd.jupyter.widget-view+json": {
              "model_id": "2916f69436b24d45a4ff1c1e2c216476",
              "version_major": 2,
              "version_minor": 0
            },
            "text/plain": [
              "model.safetensors:   0%|          | 0.00/343M [00:00<?, ?B/s]"
            ]
          },
          "metadata": {},
          "output_type": "display_data"
        },
        {
          "name": "stderr",
          "output_type": "stream",
          "text": [
            "Some weights of CedForAudioClassification were not initialized from the model checkpoint at mispeech/ced-base and are newly initialized because the shapes did not match:\n",
            "- outputlayer.1.bias: found shape torch.Size([527]) in the checkpoint and torch.Size([50]) in the model instantiated\n",
            "- outputlayer.1.weight: found shape torch.Size([527, 768]) in the checkpoint and torch.Size([50, 768]) in the model instantiated\n",
            "You should probably TRAIN this model on a down-stream task to be able to use it for predictions and inference.\n"
          ]
        }
      ],
      "source": [
        "from transformers import AutoModelForAudioClassification\n",
        "\n",
        "outputdim = 50\n",
        "model = AutoModelForAudioClassification.from_pretrained(model_name, outputdim=outputdim, ignore_mismatched_sizes=True)\n",
        "\n",
        "model.freeze_encoder()\n",
        "model.config.loss = \"CrossEntropyLoss\""
      ]
    },
    {
      "cell_type": "code",
      "execution_count": 10,
      "metadata": {
        "id": "dAISiZnWdz_7"
      },
      "outputs": [],
      "source": [
        "from transformers import TrainingArguments, Trainer"
      ]
    },
    {
      "cell_type": "code",
      "execution_count": 11,
      "metadata": {
        "id": "yoFORE4Sdpnh"
      },
      "outputs": [],
      "source": [
        "batch_size = 128\n",
        "args = TrainingArguments(\n",
        "    f\"{model_name}-linearhead-esc50\",\n",
        "    evaluation_strategy=\"epoch\",\n",
        "    save_strategy=\"epoch\",\n",
        "    learning_rate=3e-3,\n",
        "    per_device_train_batch_size=batch_size,\n",
        "    gradient_accumulation_steps=1,\n",
        "    per_device_eval_batch_size=batch_size,\n",
        "    num_train_epochs=5,\n",
        "    warmup_ratio=0,\n",
        "    logging_steps=10,\n",
        "    load_best_model_at_end=True,\n",
        "    metric_for_best_model=\"accuracy\",\n",
        "    dataloader_num_workers=2,    # Google Colab suggests setting num_worker=2\n",
        "    push_to_hub=False,\n",
        ")"
      ]
    },
    {
      "cell_type": "code",
      "execution_count": 12,
      "metadata": {
        "colab": {
          "base_uri": "https://localhost:8080/",
          "height": 49,
          "referenced_widgets": [
            "221094719ad34c528ad18959afe50bd6",
            "f6ed229d5ea8454d969d4112e6daf742",
            "29b73487472041179f6ad5c4b414b7e2",
            "7ff87daba9be4eeead0f4f260af71f56",
            "25e5281e63e641d8a2b61c26c66b19aa",
            "1a0a97b7c9484908a727dac596bdf828",
            "725c5e5d16e240c3b6c8a50a7ac8bd26",
            "0737d32ec1674f528936e499c3b5ade5",
            "3c24047b0b5a4d7f89206d484e140739",
            "165d6fbe3cfd4b859dc771a54f7f447f",
            "1364738a06014b3fa9f37a48f7805c66"
          ]
        },
        "id": "MRYNIHXyhzo1",
        "outputId": "dacd4ea3-2228-4d70-aca7-668120f3a3a2"
      },
      "outputs": [
        {
          "data": {
            "application/vnd.jupyter.widget-view+json": {
              "model_id": "221094719ad34c528ad18959afe50bd6",
              "version_major": 2,
              "version_minor": 0
            },
            "text/plain": [
              "Downloading builder script:   0%|          | 0.00/4.20k [00:00<?, ?B/s]"
            ]
          },
          "metadata": {},
          "output_type": "display_data"
        }
      ],
      "source": [
        "import numpy as np\n",
        "import evaluate\n",
        "\n",
        "metric = evaluate.load(\"accuracy\")\n",
        "\n",
        "def compute_metrics(eval_pred):\n",
        "    predictions = np.argmax(eval_pred.predictions[0], axis=1)\n",
        "    return metric.compute(predictions=predictions, references=eval_pred.label_ids)"
      ]
    },
    {
      "cell_type": "code",
      "execution_count": 13,
      "metadata": {
        "id": "cSoBb55ChvKa"
      },
      "outputs": [],
      "source": [
        "trainer = Trainer(\n",
        "    model,\n",
        "    args,\n",
        "    train_dataset=encoded_dataset[\"train\"],\n",
        "    eval_dataset=encoded_dataset[\"validation\"],\n",
        "    tokenizer=feature_extractor,\n",
        "    compute_metrics=compute_metrics,\n",
        ")"
      ]
    },
    {
      "cell_type": "code",
      "execution_count": 14,
      "metadata": {
        "colab": {
          "base_uri": "https://localhost:8080/",
          "height": 249
        },
        "id": "7YM7vYVzhrPa",
        "outputId": "4b95cb83-b974-45fb-95df-aef3cfb1b087"
      },
      "outputs": [
        {
          "data": {
            "text/html": [
              "\n",
              "    <div>\n",
              "      \n",
              "      <progress value='65' max='65' style='width:300px; height:20px; vertical-align: middle;'></progress>\n",
              "      [65/65 03:18, Epoch 5/5]\n",
              "    </div>\n",
              "    <table border=\"1\" class=\"dataframe\">\n",
              "  <thead>\n",
              " <tr style=\"text-align: left;\">\n",
              "      <th>Epoch</th>\n",
              "      <th>Training Loss</th>\n",
              "      <th>Validation Loss</th>\n",
              "      <th>Accuracy</th>\n",
              "    </tr>\n",
              "  </thead>\n",
              "  <tbody>\n",
              "    <tr>\n",
              "      <td>1</td>\n",
              "      <td>3.731000</td>\n",
              "      <td>3.493418</td>\n",
              "      <td>0.942500</td>\n",
              "    </tr>\n",
              "    <tr>\n",
              "      <td>2</td>\n",
              "      <td>3.444800</td>\n",
              "      <td>3.289105</td>\n",
              "      <td>0.952500</td>\n",
              "    </tr>\n",
              "    <tr>\n",
              "      <td>3</td>\n",
              "      <td>3.283700</td>\n",
              "      <td>3.189903</td>\n",
              "      <td>0.957500</td>\n",
              "    </tr>\n",
              "    <tr>\n",
              "      <td>4</td>\n",
              "      <td>3.133100</td>\n",
              "      <td>3.153491</td>\n",
              "      <td>0.957500</td>\n",
              "    </tr>\n",
              "    <tr>\n",
              "      <td>5</td>\n",
              "      <td>3.112700</td>\n",
              "      <td>3.141858</td>\n",
              "      <td>0.960000</td>\n",
              "    </tr>\n",
              "  </tbody>\n",
              "</table><p>"
            ],
            "text/plain": [
              "<IPython.core.display.HTML object>"
            ]
          },
          "metadata": {},
          "output_type": "display_data"
        },
        {
          "data": {
            "text/plain": [
              "TrainOutput(global_step=65, training_loss=3.2985691950871394, metrics={'train_runtime': 207.0171, 'train_samples_per_second': 38.644, 'train_steps_per_second': 0.314, 'total_flos': 1.31352016730112e+17, 'train_loss': 3.2985691950871394, 'epoch': 5.0})"
            ]
          },
          "execution_count": 15,
          "metadata": {},
          "output_type": "execute_result"
        }
      ],
      "source": [
        "trainer.train()"
      ]
    }
  ],
  "metadata": {
    "kernelspec": {
      "display_name": "venv",
      "language": "python",
      "name": "python3"
    },
    "language_info": {
      "codemirror_mode": {
        "name": "ipython",
        "version": 3
      },
      "file_extension": ".py",
      "mimetype": "text/x-python",
      "name": "python",
      "nbconvert_exporter": "python",
      "pygments_lexer": "ipython3",
      "version": "3.11.7"
    }
  },
  "nbformat": 4,
  "nbformat_minor": 2
}
